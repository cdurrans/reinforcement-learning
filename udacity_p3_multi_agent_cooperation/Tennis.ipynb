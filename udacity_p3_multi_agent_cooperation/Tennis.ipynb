{
 "cells": [
  {
   "cell_type": "markdown",
   "metadata": {},
   "source": [
    "# Collaboration and Competition\n",
    "\n",
    "---\n",
    "\n",
    "You are welcome to use this coding environment to train your agent for the project.  Follow the instructions below to get started!\n",
    "\n",
    "### 1. Start the Environment\n",
    "\n",
    "Run the next code cell to install a few packages.  This line will take a few minutes to run!"
   ]
  },
  {
   "cell_type": "code",
   "execution_count": 1,
   "metadata": {},
   "outputs": [
    {
     "name": "stdout",
     "output_type": "stream",
     "text": [
      "\u001b[31mtensorflow 1.7.1 has requirement numpy>=1.13.3, but you'll have numpy 1.12.1 which is incompatible.\u001b[0m\r\n",
      "\u001b[31mipython 6.5.0 has requirement prompt-toolkit<2.0.0,>=1.0.15, but you'll have prompt-toolkit 3.0.5 which is incompatible.\u001b[0m\r\n"
     ]
    }
   ],
   "source": [
    "!pip -q install ./python"
   ]
  },
  {
   "cell_type": "markdown",
   "metadata": {},
   "source": [
    "The environment is already saved in the Workspace and can be accessed at the file path provided below. "
   ]
  },
  {
   "cell_type": "code",
   "execution_count": 2,
   "metadata": {},
   "outputs": [
    {
     "name": "stderr",
     "output_type": "stream",
     "text": [
      "INFO:unityagents:\n",
      "'Academy' started successfully!\n",
      "Unity Academy name: Academy\n",
      "        Number of Brains: 1\n",
      "        Number of External Brains : 1\n",
      "        Lesson number : 0\n",
      "        Reset Parameters :\n",
      "\t\t\n",
      "Unity brain name: TennisBrain\n",
      "        Number of Visual Observations (per agent): 0\n",
      "        Vector Observation space type: continuous\n",
      "        Vector Observation space size (per agent): 8\n",
      "        Number of stacked Vector Observation: 3\n",
      "        Vector Action space type: continuous\n",
      "        Vector Action space size (per agent): 2\n",
      "        Vector Action descriptions: , \n"
     ]
    }
   ],
   "source": [
    "from unityagents import UnityEnvironment\n",
    "import numpy as np\n",
    "\n",
    "env = UnityEnvironment(file_name=\"/data/Tennis_Linux_NoVis/Tennis\")"
   ]
  },
  {
   "cell_type": "markdown",
   "metadata": {},
   "source": [
    "Environments contain **_brains_** which are responsible for deciding the actions of their associated agents. Here we check for the first brain available, and set it as the default brain we will be controlling from Python."
   ]
  },
  {
   "cell_type": "code",
   "execution_count": 3,
   "metadata": {},
   "outputs": [],
   "source": [
    "# get the default brain\n",
    "brain_name = env.brain_names[0]\n",
    "brain = env.brains[brain_name]"
   ]
  },
  {
   "cell_type": "markdown",
   "metadata": {},
   "source": [
    "### 2. Examine the State and Action Spaces\n",
    "\n",
    "Run the code cell below to print some information about the environment."
   ]
  },
  {
   "cell_type": "code",
   "execution_count": 4,
   "metadata": {},
   "outputs": [
    {
     "name": "stdout",
     "output_type": "stream",
     "text": [
      "Number of agents: 2\n",
      "Size of each action: 2\n",
      "There are 2 agents. Each observes a state with length: 24\n",
      "The state for the first agent looks like: [ 0.          0.          0.          0.          0.          0.          0.\n",
      "  0.          0.          0.          0.          0.          0.          0.\n",
      "  0.          0.         -6.65278625 -1.5        -0.          0.\n",
      "  6.83172083  6.         -0.          0.        ]\n"
     ]
    }
   ],
   "source": [
    "# reset the environment\n",
    "env_info = env.reset(train_mode=True)[brain_name]\n",
    "\n",
    "# number of agents \n",
    "num_agents = len(env_info.agents)\n",
    "print('Number of agents:', num_agents)\n",
    "\n",
    "# size of each action\n",
    "action_size = brain.vector_action_space_size\n",
    "print('Size of each action:', action_size)\n",
    "\n",
    "# examine the state space \n",
    "states = env_info.vector_observations\n",
    "state_size = states.shape[1]\n",
    "print('There are {} agents. Each observes a state with length: {}'.format(states.shape[0], state_size))\n",
    "print('The state for the first agent looks like:', states[0])"
   ]
  },
  {
   "cell_type": "markdown",
   "metadata": {},
   "source": [
    "### 3. Take Random Actions in the Environment\n",
    "\n",
    "In the next code cell, you will learn how to use the Python API to control the agent and receive feedback from the environment.\n",
    "\n",
    "Note that **in this coding environment, you will not be able to watch the agents while they are training**, and you should set `train_mode=True` to restart the environment."
   ]
  },
  {
   "cell_type": "code",
   "execution_count": 5,
   "metadata": {},
   "outputs": [
    {
     "name": "stdout",
     "output_type": "stream",
     "text": [
      "Total score (averaged over agents) this episode: -0.004999999888241291\n",
      "Total score (averaged over agents) this episode: -0.004999999888241291\n",
      "Total score (averaged over agents) this episode: -0.004999999888241291\n",
      "Total score (averaged over agents) this episode: 0.04500000085681677\n",
      "Total score (averaged over agents) this episode: 0.09500000160187483\n"
     ]
    }
   ],
   "source": [
    "for i in range(5):                                         # play game for 5 episodes\n",
    "    env_info = env.reset(train_mode=False)[brain_name]     # reset the environment    \n",
    "    states = env_info.vector_observations                  # get the current state (for each agent)\n",
    "    scores = np.zeros(num_agents)                          # initialize the score (for each agent)\n",
    "    while True:\n",
    "        actions = np.random.randn(num_agents, action_size) # select an action (for each agent)\n",
    "        actions = np.clip(actions, -1, 1)                  # all actions between -1 and 1\n",
    "        #print(\"Actions: \",actions)\n",
    "        env_info = env.step(actions)[brain_name]           # send all actions to tne environment\n",
    "        next_states = env_info.vector_observations         # get next state (for each agent)\n",
    "        rewards = env_info.rewards                         # get reward (for each agent)\n",
    "        dones = env_info.local_done                        # see if episode finished\n",
    "        scores += env_info.rewards                         # update the score (for each agent)\n",
    "        states = next_states                               # roll over states to next time step\n",
    "        if np.any(dones):                                  # exit loop if episode finished\n",
    "            break\n",
    "    print('Total score (averaged over agents) this episode: {}'.format(np.mean(scores)))"
   ]
  },
  {
   "cell_type": "code",
   "execution_count": 6,
   "metadata": {},
   "outputs": [],
   "source": [
    "import random\n",
    "import torch\n",
    "from collections import deque\n",
    "import matplotlib.pyplot as plt\n",
    "%matplotlib inline\n",
    "\n",
    "from ddpg_agent import Agent"
   ]
  },
  {
   "cell_type": "code",
   "execution_count": 7,
   "metadata": {},
   "outputs": [],
   "source": [
    "agent = Agent(state_size=state_size, action_size=action_size, n_agents=num_agents, random_seed=11)"
   ]
  },
  {
   "cell_type": "code",
   "execution_count": 8,
   "metadata": {},
   "outputs": [],
   "source": [
    "def maddpg(n_episodes=4000, max_t=2000, print_every=50):\n",
    "    \n",
    "    scores = []\n",
    "    scores_deque = deque(maxlen=print_every)\n",
    "    best_avg_score = -np.inf\n",
    "    \n",
    "    for i_episode in range(1, n_episodes+1):\n",
    "        \n",
    "        env_info = env.reset(train_mode=True)[brain_name]  \n",
    "        state = env_info.vector_observations\n",
    "        \n",
    "        eps_scores = np.zeros(num_agents)\n",
    "        agent.reset()\n",
    "        \n",
    "        for t in range(max_t):\n",
    "            #print('State: ',state)\n",
    "            action = agent.act(state, add_noise=True)\n",
    "            #print('Action: ',action)\n",
    "            env_info = env.step(action)[brain_name]\n",
    "            next_state = env_info.vector_observations\n",
    "            #print('Next state: ',next_state)\n",
    "            reward = env_info.rewards\n",
    "            #print('Reward: ',reward)\n",
    "            done = env_info.local_done\n",
    "            #print('Done: ',done)\n",
    "            agent.step(state, action, reward, next_state, done)\n",
    "            state = next_state\n",
    "            eps_scores += np.array(reward)\n",
    "            #print('eps_scores: ',eps_scores)\n",
    "            \n",
    "            if np.any(done):\n",
    "                break \n",
    "        \n",
    "        #print('Final episode eps_scores', eps_scores)\n",
    "        eps_score = np.max(eps_scores)\n",
    "        #print('Max eps_score: ', eps_score)\n",
    "        scores_deque.append(eps_score)\n",
    "        scores.append(eps_score)\n",
    "        \n",
    "        print('\\rEpisode {}\\tAverage Score (deque): {:.2f}'.format(i_episode, np.mean(scores_deque)), end=\"\")\n",
    "        if i_episode % print_every == 0:\n",
    "            print('\\rEpisode {} \\tScore: {:.2f}\\tAverage Score: {:.2f}'.format(\n",
    "                i_episode, eps_score, np.mean(scores_deque)))\n",
    "            torch.save(agent.actor_local.state_dict(), 'checkpoint_actor.pth')\n",
    "            torch.save(agent.critic_local.state_dict(), 'checkpoint_critic.pth')\n",
    "        \n",
    "        if np.mean(scores_deque)>=0.5:\n",
    "            print('\\nEnvironment solved in {:d} episodes!\\tAverage Score: {:.2f}'.format(i_episode, np.mean(scores_deque)))\n",
    "            torch.save(agent.actor_local.state_dict(), 'fully_trained_actor.pth')\n",
    "            torch.save(agent.critic_local.state_dict(), 'fully_trained_critic.pth')\n",
    "            break\n",
    "    \n",
    "    np.save('scores.npy', scores)\n",
    "    return scores\n"
   ]
  },
  {
   "cell_type": "code",
   "execution_count": 9,
   "metadata": {},
   "outputs": [
    {
     "name": "stdout",
     "output_type": "stream",
     "text": [
      "Episode 50 \tScore: 0.00\tAverage Score: 0.00\n",
      "Episode 100 \tScore: 0.00\tAverage Score: 0.00\n",
      "Episode 150 \tScore: 0.00\tAverage Score: 0.00\n",
      "Episode 200 \tScore: 0.00\tAverage Score: 0.00\n",
      "Episode 250 \tScore: 0.00\tAverage Score: 0.00\n",
      "Episode 300 \tScore: 0.00\tAverage Score: 0.00\n",
      "Episode 350 \tScore: 0.00\tAverage Score: 0.01\n",
      "Episode 400 \tScore: 0.00\tAverage Score: 0.01\n",
      "Episode 450 \tScore: 0.00\tAverage Score: 0.00\n",
      "Episode 500 \tScore: 0.00\tAverage Score: 0.00\n",
      "Episode 550 \tScore: 0.00\tAverage Score: 0.00\n",
      "Episode 600 \tScore: 0.00\tAverage Score: 0.00\n",
      "Episode 650 \tScore: 0.00\tAverage Score: 0.00\n",
      "Episode 700 \tScore: 0.00\tAverage Score: 0.00\n",
      "Episode 750 \tScore: 0.00\tAverage Score: 0.00\n",
      "Episode 800 \tScore: 0.00\tAverage Score: 0.00\n",
      "Episode 850 \tScore: 0.00\tAverage Score: 0.00\n",
      "Episode 900 \tScore: 0.00\tAverage Score: 0.00\n",
      "Episode 950 \tScore: 0.00\tAverage Score: 0.02\n",
      "Episode 1000 \tScore: 0.09\tAverage Score: 0.07\n",
      "Episode 1050 \tScore: 0.00\tAverage Score: 0.05\n",
      "Episode 1100 \tScore: 0.10\tAverage Score: 0.01\n",
      "Episode 1150 \tScore: 0.09\tAverage Score: 0.02\n",
      "Episode 1200 \tScore: 0.00\tAverage Score: 0.03\n",
      "Episode 1250 \tScore: 0.10\tAverage Score: 0.05\n",
      "Episode 1300 \tScore: 0.10\tAverage Score: 0.05\n",
      "Episode 1350 \tScore: 0.10\tAverage Score: 0.06\n",
      "Episode 1400 \tScore: 0.00\tAverage Score: 0.08\n",
      "Episode 1450 \tScore: 0.00\tAverage Score: 0.03\n",
      "Episode 1500 \tScore: 0.09\tAverage Score: 0.07\n",
      "Episode 1550 \tScore: 0.10\tAverage Score: 0.16\n",
      "Episode 1600 \tScore: 0.09\tAverage Score: 0.09\n",
      "Episode 1650 \tScore: 0.10\tAverage Score: 0.09\n",
      "Episode 1700 \tScore: 0.09\tAverage Score: 0.09\n",
      "Episode 1750 \tScore: 0.10\tAverage Score: 0.09\n",
      "Episode 1800 \tScore: 0.10\tAverage Score: 0.10\n",
      "Episode 1850 \tScore: 0.09\tAverage Score: 0.09\n",
      "Episode 1900 \tScore: 0.10\tAverage Score: 0.10\n",
      "Episode 1950 \tScore: 0.19\tAverage Score: 0.12\n",
      "Episode 2000 \tScore: 0.20\tAverage Score: 0.14\n",
      "Episode 2048\tAverage Score (deque): 0.50\n",
      "Environment solved in 2048 episodes!\tAverage Score: 0.50\n"
     ]
    }
   ],
   "source": [
    "scores = maddpg()"
   ]
  },
  {
   "cell_type": "code",
   "execution_count": 10,
   "metadata": {},
   "outputs": [
    {
     "data": {
      "image/png": "[encoded data removed]",
      "text/plain": [
       "<matplotlib.figure.Figure at 0x7fa9de9ea5c0>"
      ]
     },
     "metadata": {
      "needs_background": "light"
     },
     "output_type": "display_data"
    }
   ],
   "source": [
    "fig = plt.figure()\n",
    "ax = fig.add_subplot(111)\n",
    "plt.plot(np.arange(1, len(scores)+1), scores)\n",
    "plt.ylabel('Score')\n",
    "plt.xlabel('Episode #')\n",
    "plt.show()"
   ]
  }
 ],
 "metadata": {
  "kernelspec": {
   "display_name": "Python 3",
   "language": "python",
   "name": "python3"
  },
  "language_info": {
   "codemirror_mode": {
    "name": "ipython",
    "version": 3
   },
   "file_extension": ".py",
   "mimetype": "text/x-python",
   "name": "python",
   "nbconvert_exporter": "python",
   "pygments_lexer": "ipython3",
   "version": "3.6.3"
  }
 },
 "nbformat": 4,
 "nbformat_minor": 2
}
